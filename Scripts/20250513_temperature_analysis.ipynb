{
  "metadata": {
    "kernelspec": {
      "name": "python",
      "display_name": "Python (Pyodide)",
      "language": "python"
    },
    "language_info": {
      "codemirror_mode": {
        "name": "python",
        "version": 3
      },
      "file_extension": ".py",
      "mimetype": "text/x-python",
      "name": "python",
      "nbconvert_exporter": "python",
      "pygments_lexer": "ipython3",
      "version": "3.8"
    }
  },
  "nbformat_minor": 5,
  "nbformat": 4,
  "cells": [
    {
      "id": "0200f321-15cd-4bc3-8904-0bc48b261d45",
      "cell_type": "markdown",
      "source": "# Contact information",
      "metadata": {}
    },
    {
      "id": "936f384a-21de-472c-af54-3d4746be5c9a",
      "cell_type": "markdown",
      "source": "Name: Martin Wegmann",
      "metadata": {}
    },
    {
      "id": "70c7e17f-9be0-4249-b659-2a236ea829a1",
      "cell_type": "markdown",
      "source": "Email: martin.wegmann@unibe.ch",
      "metadata": {}
    },
    {
      "id": "230d68c2-13e2-41d5-bf6d-a2ccd63f1ed7",
      "cell_type": "markdown",
      "source": "Website: www.google.ch",
      "metadata": {}
    },
    {
      "id": "b350a0c1-a3e5-4fe7-b1e0-cbf453d12777",
      "cell_type": "markdown",
      "source": "# Analysis Start",
      "metadata": {}
    },
    {
      "id": "bd672ec9-ea29-4d21-9572-688baae735e7",
      "cell_type": "markdown",
      "source": "This is how to compute temperature",
      "metadata": {}
    },
    {
      "id": "3edd8a0c-5818-4762-94af-24bd8c8d26b9",
      "cell_type": "markdown",
      "source": "temperature=254*34",
      "metadata": {}
    },
    {
      "id": "13719223-edc9-4f12-b87e-66e4b3674912",
      "cell_type": "markdown",
      "source": "temperature",
      "metadata": {}
    },
    {
      "id": "0acf3c9b-357d-4ad7-8565-979d200c153f",
      "cell_type": "markdown",
      "source": "8636",
      "metadata": {}
    },
    {
      "id": "edc35150-8f17-4c01-a693-aa866daddd78",
      "cell_type": "code",
      "source": "",
      "metadata": {
        "trusted": true
      },
      "outputs": [],
      "execution_count": null
    }
  ]
}